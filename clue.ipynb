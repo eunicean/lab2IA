{
 "cells": [
  {
   "cell_type": "code",
   "execution_count": 91,
   "metadata": {},
   "outputs": [],
   "source": [
    "from logic_project import * "
   ]
  },
  {
   "cell_type": "code",
   "execution_count": 92,
   "metadata": {},
   "outputs": [],
   "source": [
    "def check_knowledge(knowledge, symbols):\n",
    "    for symbol in symbols:\n",
    "        if model_check(knowledge, symbol):\n",
    "            # termcolor.cprint(f\"{symbol}: YES\", \"green\")\n",
    "            print(f\"{symbol}: YES\")\n",
    "        elif not model_check(knowledge, Not(symbol)):\n",
    "            print(f\"{symbol}: MAYBE\")"
   ]
  },
  {
   "cell_type": "code",
   "execution_count": 93,
   "metadata": {},
   "outputs": [],
   "source": [
    "mustard = Symbol(\"ColMustard\")\n",
    "plum = Symbol(\"ProfPlum\")\n",
    "scarlet = Symbol(\"MsScarlet\")\n",
    "characters = [mustard, plum, scarlet]\n",
    "\n",
    "ballroom = Symbol(\"ballroom\")\n",
    "kitchen = Symbol(\"kitchen\")\n",
    "library = Symbol(\"library\")\n",
    "rooms = [ballroom, kitchen, library]\n",
    "\n",
    "knife = Symbol(\"knife\")\n",
    "revolver = Symbol(\"revolver\")\n",
    "wrench = Symbol(\"wrench\")\n",
    "weapons = [knife, revolver, wrench]\n",
    "\n",
    "symbols = characters + rooms + weapons"
   ]
  },
  {
   "cell_type": "code",
   "execution_count": 94,
   "metadata": {},
   "outputs": [
    {
     "name": "stdout",
     "output_type": "stream",
     "text": [
      "ColMustard: MAYBE\n",
      "ProfPlum: MAYBE\n",
      "MsScarlet: MAYBE\n",
      "ballroom: MAYBE\n",
      "kitchen: MAYBE\n",
      "library: MAYBE\n",
      "knife: MAYBE\n",
      "revolver: MAYBE\n",
      "wrench: MAYBE\n"
     ]
    }
   ],
   "source": [
    "# There must be a person, room, and weapon.\n",
    "knowledge = And(\n",
    "    Or(mustard, plum, scarlet),\n",
    "    Or(ballroom, kitchen, library),\n",
    "    Or(knife, revolver, wrench)\n",
    ")\n",
    "\n",
    "check_knowledge(knowledge, symbols)"
   ]
  },
  {
   "cell_type": "code",
   "execution_count": 95,
   "metadata": {},
   "outputs": [
    {
     "name": "stdout",
     "output_type": "stream",
     "text": [
      "ProfPlum: MAYBE\n",
      "MsScarlet: MAYBE\n",
      "ballroom: MAYBE\n",
      "library: MAYBE\n",
      "knife: MAYBE\n",
      "wrench: MAYBE\n"
     ]
    }
   ],
   "source": [
    "# Initial cards\n",
    "knowledge.add(And(\n",
    "    Not(mustard), Not(kitchen), Not(revolver)\n",
    "))\n",
    "\n",
    "check_knowledge(knowledge, symbols)"
   ]
  },
  {
   "cell_type": "code",
   "execution_count": 96,
   "metadata": {},
   "outputs": [
    {
     "name": "stdout",
     "output_type": "stream",
     "text": [
      "MsScarlet: YES\n",
      "library: YES\n",
      "knife: YES\n"
     ]
    }
   ],
   "source": [
    "# Unknown card\n",
    "knowledge.add(Or(\n",
    "    Not(scarlet), Not(library), Not(wrench)\n",
    "))\n",
    "\n",
    "# Known cards\n",
    "knowledge.add(Not(plum))\n",
    "knowledge.add(Not(ballroom))\n",
    "\n",
    "check_knowledge(knowledge, symbols)"
   ]
  }
 ],
 "metadata": {
  "kernelspec": {
   "display_name": "Python 3",
   "language": "python",
   "name": "python3"
  },
  "language_info": {
   "codemirror_mode": {
    "name": "ipython",
    "version": 3
   },
   "file_extension": ".py",
   "mimetype": "text/x-python",
   "name": "python",
   "nbconvert_exporter": "python",
   "pygments_lexer": "ipython3",
   "version": "3.12.4"
  }
 },
 "nbformat": 4,
 "nbformat_minor": 2
}
